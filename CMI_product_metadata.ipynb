{
 "cells": [
  {
   "cell_type": "markdown",
   "metadata": {},
   "source": [
    "# DEA Intertidal Elevation (NIDEM) <img align=\"right\" src=\"https://github.com/GeoscienceAustralia/dea-notebooks/raw/develop/Supplementary_data/dea_logo.jpg\">\n",
    "\n",
    "* **Compatability:** Notebook currently compatible with both the `NCI` and `DEA Sandbox` environments\n",
    "* **Products used:** [DEA Intertidal Elevation](https://cmi.ga.gov.au/data-products/dea/581/dea-coastlines-landsat)\n"
   ]
  },
  {
   "cell_type": "markdown",
   "metadata": {},
   "source": [
    "## Description\n",
    "\n",
    "This notebook will demonstrate how to load data from the DEA Intertidal Elevation (NIDEM) product suite using the Digital Earth Australia datacube. \n",
    "Topics covered include:\n",
    "\n",
    "* A brief overview of the DEA Intertidal Elevation product\n",
    "* Using the native `dc.load()` function to load in DEA Intertidal Elevation (NIDEM) data for a coastal region\n",
    "\n",
    "***"
   ]
  },
  {
   "cell_type": "markdown",
   "metadata": {},
   "source": [
    "## Getting started\n",
    "\n",
    "To run this analysis, run all the cells in the notebook, starting with the \"Load packages\" cell."
   ]
  },
  {
   "cell_type": "markdown",
   "metadata": {},
   "source": [
    "### Load packages"
   ]
  },
  {
   "cell_type": "code",
   "execution_count": 50,
   "metadata": {},
   "outputs": [
    {
     "data": {
      "text/markdown": [
       "## DEA Intertidal Extents <img align=\"right\" src=\"https://test.cmi.ga.gov.au/sites/default/files/2020-07/intertidal%20extents.png\" width=\"250\" style=\"padding-left: 20px; float: right;\">\n",
       "\n",
       "### Background\n",
       "<p>Intertidal zones are those which are exposed to the air at low tide and underwater at high tide. These include sandy beaches, tidal flats, rocky shores and reefs. </p>\n",
       "\n",
       "<p>Intertidal zones form critical habitats for a wide range of organisms, but are faced with increasing threats, including coastal erosion and a rise in sea levels.  </p>\n",
       "\n",
       "<p>Accurate knowledge of the extent and topography of these regions can help assess where these threats will have the greatest impact, and provide essential information to underpin monitoring and management strategies. This data is challenging to acquire using traditional survey methods given the dynamic nature of intertidal zones and length of the Australian coastline.</p>\n",
       "\n",
       "### What this product offers\n",
       "<p>This product is a national dataset of the exposed intertidal zone: the land between the observed highest and lowest tide. It provides the extent and topography of the intertidal zone of Australia's coastline (excluding off-shore Territories).</p>\n",
       "\n",
       "<p>This information was collated using observations in the Landsat archive since 1986. This product can be a valuable complementary dataset to both onshore LiDAR survey data and coarser offshore bathymetry data, enabling a more realistic representation of the land and ocean interface.</p>\n",
       "\n",
       "### Applications\n",
       "<ul><li>Understanding the extent and topography of the Australian intertidal zone</li>\n",
       "\t<li>Environmental monitoring of migratory bird species</li>\n",
       "\t<li>Habitat mapping in coastal regions</li>\n",
       "\t<li>Hydrodynamic modelling</li>\n",
       "\t<li>Geomorphology studies of features in the intertidal zone</li>\n",
       "</ul>\n",
       "\n",
       "### Publications\n",
       " * <p>Sagar, S., Roberts, D., Bala, B., &amp; Lymburner, L. (2017). Extracting the intertidal extent and topography of the Australian coastline from a 28 year time series of Landsat observations. <em>Remote Sensing of Environment</em>, <em>195</em>, 153–169. <a href=\"https://doi.org/10.1016/j.rse.2017.04.009\">https://doi.org/10.1016/j.rse.2017.04.009 </a></p>\n",
       "\n",
       "> **Note:** For more technical information about the DEA Intertidal Extents product, visit the official [Geoscience Australia DEA Intertidal Extents product description.](https://test.cmi.ga.gov.au/data-products/dea/174/intertidal-extents-2-landsat)"
      ],
      "text/plain": [
       "<IPython.core.display.Markdown object>"
      ]
     },
     "execution_count": 50,
     "metadata": {},
     "output_type": "execute_result"
    }
   ],
   "source": [
    "# %load_ext autoreload\n",
    "# %autoreload 2\n",
    "\n",
    "import sys\n",
    "sys.path.append(\"../Scripts\")\n",
    "from dea_metadata import load_metadata\n",
    "\n",
    "# This line of code automatically loads the latest product metadata\n",
    "load_metadata(\"DEA Intertidal Extents\")"
   ]
  },
  {
   "cell_type": "markdown",
   "metadata": {},
   "source": [
    "***\n",
    "\n",
    "## Additional information"
   ]
  },
  {
   "cell_type": "markdown",
   "metadata": {},
   "source": [
    "**License:** The code in this notebook is licensed under the [Apache License, Version 2.0](https://www.apache.org/licenses/LICENSE-2.0). \n",
    "Digital Earth Australia data is licensed under the [Creative Commons by Attribution 4.0](https://creativecommons.org/licenses/by/4.0/) license.\n",
    "\n",
    "**Product description and metadata:** For the most up-to-date information about this product, visit the official [Geoscience Australia DEA Coastlines product description](https://cmi.ga.gov.au/data-products/dea/581/dea-coastlines-landsat)\n",
    "\n",
    "**Contact:** For assistance with any of the Python code or Jupyter Notebooks in this repository, please post a [Github issue](https://github.com/GeoscienceAustralia/DEACoastLines/issues/new). For questions or more information about this product, email dea@ga.gov.au or sign up to the [Open Data Cube Slack](https://join.slack.com/t/opendatacube/shared_invite/zt-d6hu7l35-CGDhSxiSmTwacKNuXWFUkg) and post on the [`#dea-coastlines`](https://app.slack.com/client/T0L4V0TFT/C018X6J9HLY/details/) channel.\n",
    "\n",
    "**Last modified:** September 2020"
   ]
  }
 ],
 "metadata": {
  "kernelspec": {
   "display_name": "Python 3",
   "language": "python",
   "name": "python3"
  },
  "language_info": {
   "codemirror_mode": {
    "name": "ipython",
    "version": 3
   },
   "file_extension": ".py",
   "mimetype": "text/x-python",
   "name": "python",
   "nbconvert_exporter": "python",
   "pygments_lexer": "ipython3",
   "version": "3.6.9"
  },
  "widgets": {
   "application/vnd.jupyter.widget-state+json": {
    "state": {},
    "version_major": 2,
    "version_minor": 0
   }
  }
 },
 "nbformat": 4,
 "nbformat_minor": 4
}
